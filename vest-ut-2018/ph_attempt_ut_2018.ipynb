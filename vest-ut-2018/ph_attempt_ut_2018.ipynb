{
 "cells": [
  {
   "cell_type": "code",
   "execution_count": 1,
   "id": "0ea84ad7",
   "metadata": {},
   "outputs": [],
   "source": [
    "import pandas as pd # standard python data library\n",
    "import geopandas as gp # the geo-version of pandas\n",
    "import numpy as np \n",
    "import os\n",
    "import fiona\n",
    "from statistics import mean, median\n",
    "from pandas import read_csv\n",
    "gp.io.file.fiona.drvsupport.supported_drivers['KML'] = 'rw' #To load KML files\n",
    "import string\n",
    "import xml.etree.ElementTree as et"
   ]
  },
  {
   "cell_type": "markdown",
   "id": "7488e5a4",
   "metadata": {},
   "source": [
    "Utah\n",
    "----\n",
    "Election results from OpenElections (http://openelections.net/)\n",
    "Shapefile from the Utah Automated Geographic Reference Center (https://gis.utah.gov/data/political/voter-precincts/)\n",
    "\n",
    "Several transcription errors were corrected from OpenElections using their raw results gathered from counties (https://github.com/openelections/openelections-sources-ut/tree/master/2018%20General%20Election). OE results in Rich and Morgan Counties were based on non-final reports, which were collected from county sources.\n",
    "\n",
    "Emery County - 8 \"canvas votes\" were distributed to precincts.\n",
    "\n",
    "Weber County - 6 precincts had their results suppressed, since all cast fewer than 15 votes, for a total of 42 votes. These were distributed based on the number of votes cast and the reported vote in 2016, which was not suppressed.\n",
    "\n",
    "G18USSRROM - Mitt Romney (Republican Party)\n",
    "G18USSDWIL - Jenny Wilson (Democratic Party)\n",
    "G18USSIMCC - Reed C. McCandless (Independent American Party)\n",
    "G18USSLBOW - Craig R. Bowden (Libertarian Party)\n",
    "G18USSCAAL - Tim Aalders (Conservative Party)\n",
    "G18USSOWRI - Write-in Votes"
   ]
  },
  {
   "cell_type": "code",
   "execution_count": 2,
   "id": "588c90a0",
   "metadata": {},
   "outputs": [],
   "source": [
    "vest_ut_18 = gp.read_file(\"./raw-from-source/VEST/ut_2018/ut_2018.shp\")"
   ]
  },
  {
   "cell_type": "code",
   "execution_count": 3,
   "id": "391aabac",
   "metadata": {},
   "outputs": [
    {
     "name": "stdout",
     "output_type": "stream",
     "text": [
      "   CountyID mergeid uniqueid  G18USSRROM  G18USSDWIL  G18USSIMCC  G18USSLBOW  \\\n",
      "0         1    BV01   1-BV01         402          46           8           9   \n",
      "1         1    BV02   1-BV02         310          46           3          10   \n",
      "2         1    BV03   1-BV03         244          30           0           2   \n",
      "3         1    BV04   1-BV04          84           7           1           4   \n",
      "4         1    GR01   1-GR01          56           9           6           1   \n",
      "\n",
      "   G18USSCAAL  G18USSOWRI                                           geometry  \n",
      "0          19           1  POLYGON ((358362.560 4238423.840, 358372.350 4...  \n",
      "1          17           0  POLYGON ((355866.750 4240506.080, 356860.230 4...  \n",
      "2          12           2  POLYGON ((358902.400 4261055.000, 358909.700 4...  \n",
      "3          23           0  POLYGON ((367866.500 4262536.100, 367842.500 4...  \n",
      "4           1           1  POLYGON ((348977.460 4223848.220, 348973.090 4...  \n"
     ]
    }
   ],
   "source": [
    "print(vest_ut_18.head())"
   ]
  },
  {
   "cell_type": "code",
   "execution_count": 4,
   "id": "0182d8d6",
   "metadata": {},
   "outputs": [],
   "source": [
    "ut_election = pd.read_csv(\"./raw-from-source/Open_Elections/openelections-data-ut-master/2018/20181106__ut__general__precinct.csv\")"
   ]
  },
  {
   "cell_type": "code",
   "execution_count": 5,
   "id": "f964587b",
   "metadata": {},
   "outputs": [],
   "source": [
    "fips_file = pd.read_csv(\"./raw-from-source/FIPS/US_FIPS_Codes.csv\")\n",
    "fips_file = fips_file[fips_file[\"State\"]==\"Utah\"]\n",
    "fips_file[\"FIPS County\"]=fips_file[\"FIPS County\"].astype(str)\n",
    "fips_file[\"FIPS County\"]=fips_file[\"FIPS County\"].str.zfill(3)\n",
    "ut_fips_dict = dict(zip(fips_file[\"County Name\"],fips_file[\"FIPS County\"]))"
   ]
  },
  {
   "cell_type": "code",
   "execution_count": 6,
   "id": "50321644",
   "metadata": {},
   "outputs": [
    {
     "name": "stdout",
     "output_type": "stream",
     "text": [
      "{'Beaver': '001', 'Box Elder': '003', 'Cache': '005', 'Carbon': '007', 'Daggett': '009', 'Davis': '011', 'Duchesne': '013', 'Emery': '015', 'Garfield': '017', 'Grand': '019', 'Iron': '021', 'Juab': '023', 'Kane': '025', 'Millard': '027', 'Morgan': '029', 'Piute': '031', 'Rich': '033', 'Salt Lake': '035', 'San Juan': '037', 'Sanpete': '039', 'Sevier': '041', 'Summit': '043', 'Tooele': '045', 'Uintah': '047', 'Utah': '049', 'Wasatch': '051', 'Washington': '053', 'Wayne': '055', 'Weber': '057'}\n"
     ]
    }
   ],
   "source": [
    "print(ut_fips_dict)"
   ]
  },
  {
   "cell_type": "code",
   "execution_count": 7,
   "id": "eb5abea0",
   "metadata": {},
   "outputs": [
    {
     "name": "stdout",
     "output_type": "stream",
     "text": [
      "  county         precinct       office  district    candidate party votes\n",
      "0  Wayne          Fremont  U.S. Senate       NaN  Tim Aalders  Con      7\n",
      "1  Wayne       Loa in/out  U.S. Senate       NaN  Tim Aalders  Con      6\n",
      "2  Wayne     Lyman in/out  U.S. Senate       NaN  Tim Aalders  Con      6\n",
      "3  Wayne  Bicknell in/out  U.S. Senate       NaN  Tim Aalders  Con      8\n",
      "4  Wayne         Teesdale  U.S. Senate       NaN  Tim Aalders  Con      3\n"
     ]
    }
   ],
   "source": [
    "print(ut_election.head())"
   ]
  },
  {
   "cell_type": "code",
   "execution_count": 8,
   "id": "6274f69f",
   "metadata": {},
   "outputs": [
    {
     "name": "stdout",
     "output_type": "stream",
     "text": [
      "['Wayne' 'Salt Lake' 'Wasatch' 'Iron' 'Beaver' 'Utah' 'Carbon' 'Juab'\n",
      " 'Kane' 'Garfield' 'Daggett' 'Sanpete' 'Sevier' 'Box Elder' 'Grand'\n",
      " 'Millard' 'San Juan' 'Tooele' 'Duchesne' 'Cache' 'Weber' 'Davis' 'Summit'\n",
      " 'Uintah' 'Emery' 'Piute' 'Washington' 'Rich' 'Morgan']\n",
      "['055' '035' '051' '021' '001' '049' '007' '023' '025' '017' '009' '039'\n",
      " '041' '003' '019' '027' '037' '045' '013' '005' '057' '011' '043' '047'\n",
      " '015' '031' '053' '033' '029']\n"
     ]
    }
   ],
   "source": [
    "print(ut_election[\"county\"].unique())\n",
    "ut_election[\"county\"]=ut_election[\"county\"].map(ut_fips_dict).fillna(ut_election[\"county\"])\n",
    "print(ut_election[\"county\"].unique())"
   ]
  },
  {
   "cell_type": "code",
   "execution_count": 9,
   "id": "30829c6b",
   "metadata": {},
   "outputs": [
    {
     "name": "stdout",
     "output_type": "stream",
     "text": [
      "['U.S. Senate' 'U.S. House' 'State House' 'State Senate'\n",
      " 'Registered Voters' 'Ballots Cast' 'Straight Party' 'U S Senate'\n",
      " 'U S House' 'State Senate ' 'Utah State House']\n",
      "['U.S. Senate' 'U.S. House' 'State House' 'State Senate'\n",
      " 'Registered Voters' 'Ballots Cast' 'Straight Party' 'U S House'\n",
      " 'State Senate ' 'Utah State House']\n"
     ]
    }
   ],
   "source": [
    "print(ut_election[\"office\"].unique())\n",
    "office_changes_dict = {'U S Senate':'U.S. Senate'}\n",
    "ut_election[\"office\"] = ut_election[\"office\"].map(office_changes_dict).fillna(ut_election[\"office\"])\n",
    "print(ut_election[\"office\"].unique())"
   ]
  },
  {
   "cell_type": "code",
   "execution_count": 10,
   "id": "6b265312",
   "metadata": {},
   "outputs": [
    {
     "name": "stdout",
     "output_type": "stream",
     "text": [
      "29\n"
     ]
    }
   ],
   "source": [
    "ut_election = ut_election[ut_election[\"office\"]=='U.S. Senate']\n",
    "print(len(ut_election[\"county\"].unique()))"
   ]
  },
  {
   "cell_type": "code",
   "execution_count": 11,
   "id": "cce6c5da",
   "metadata": {},
   "outputs": [
    {
     "name": "stdout",
     "output_type": "stream",
     "text": [
      "['Tim Aalders' 'Craig Bowden' 'Reed McCandless' 'Jenny Wilson'\n",
      " 'Mitt Romney' 'write-in' 'MITT ROMNEY' 'JENNY WILSON' 'CRAIG R.  BOWDEN'\n",
      " 'TIM AALDERS' 'REED C. MCCANDLESS' 'WRITE-IN' 'CALEB DAN REEVE'\n",
      " 'TYRONE JENSEN' 'GLADE G FITZGERALD' 'HEKTOR REIKSTHEGN' 'CODY JUDY'\n",
      " 'RYAN DANIEL JACKSON' 'ABE KORB' 'Ryan Jackson' 'Craig R. Bowden'\n",
      " 'Reed C. McCandless' 'Glade G Fitzgerald (W)' 'Caleb Dan Reeve (W)'\n",
      " 'Hektor Reiksthegn (W)' 'Abe Korb (W)' 'Ryan Daniel Jackson (W)'\n",
      " 'Cody Judy (W)' 'Tyrone Jensen (W)' 'Write In' 'Write-In Totals'\n",
      " 'write-ins' 'Write-In Total' 'CRAIG R. BOWDEN' 'REED C. McCANDLESS'\n",
      " 'Write-ins' 'Write-In' 'CRAIG R BOWDEN' 'REED C MCCANDLESS'\n",
      " 'Caleb Dan Reeve' 'Write-In Votes']\n"
     ]
    }
   ],
   "source": [
    "print(ut_election[\"candidate\"].unique())"
   ]
  },
  {
   "cell_type": "code",
   "execution_count": 12,
   "id": "80b5e1b2",
   "metadata": {},
   "outputs": [],
   "source": [
    "ut_election[\"candidate\"] = ut_election[\"candidate\"].str.title()"
   ]
  },
  {
   "cell_type": "markdown",
   "id": "33638c63",
   "metadata": {},
   "source": [
    "G18USSRROM - Mitt Romney (Republican Party)\n",
    "G18USSDWIL - Jenny Wilson (Democratic Party)\n",
    "G18USSIMCC - Reed C. McCandless (Independent American Party)\n",
    "G18USSLBOW - Craig R. Bowden (Libertarian Party)\n",
    "G18USSCAAL - Tim Aalders (Conservative Party)\n",
    "G18USSOWRI - Write-in Votes"
   ]
  },
  {
   "cell_type": "code",
   "execution_count": 13,
   "id": "9cec9789",
   "metadata": {},
   "outputs": [
    {
     "name": "stdout",
     "output_type": "stream",
     "text": [
      "['Tim Aalders' 'Craig Bowden' 'Reed Mccandless' 'Jenny Wilson'\n",
      " 'Mitt Romney' 'Write-In' 'Craig R.  Bowden' 'Reed C. Mccandless'\n",
      " 'Caleb Dan Reeve' 'Tyrone Jensen' 'Glade G Fitzgerald'\n",
      " 'Hektor Reiksthegn' 'Cody Judy' 'Ryan Daniel Jackson' 'Abe Korb'\n",
      " 'Ryan Jackson' 'Craig R. Bowden' 'Glade G Fitzgerald (W)'\n",
      " 'Caleb Dan Reeve (W)' 'Hektor Reiksthegn (W)' 'Abe Korb (W)'\n",
      " 'Ryan Daniel Jackson (W)' 'Cody Judy (W)' 'Tyrone Jensen (W)' 'Write In'\n",
      " 'Write-In Totals' 'Write-Ins' 'Write-In Total' 'Craig R Bowden'\n",
      " 'Reed C Mccandless' 'Write-In Votes']\n"
     ]
    }
   ],
   "source": [
    "print(ut_election[\"candidate\"].unique())"
   ]
  },
  {
   "cell_type": "code",
   "execution_count": 14,
   "id": "42a99d7d",
   "metadata": {},
   "outputs": [],
   "source": [
    "cand_name_change_dict = {'Craig R.  Bowden':'Craig Bowden',\n",
    " 'Craig R. Bowden':'Craig Bowden',\n",
    " 'Craig R Bowden':'Craig Bowden',\n",
    " 'Reed C. Mccandless':'Reed Mccandless',\n",
    "'Ryan Daniel Jackson':'Ryan Jackson',\n",
    "'Reed C Mccandless':'Reed Mccandless',\n",
    "'Write-In Votes':'Write-In',\n",
    "'Write-In Total':'Write-In',\n",
    "'Write-Ins':'Write-In',\n",
    "'Write-In Totals':'Write-In',\n",
    "'Write In':'Write-In',\n",
    "'Glade G Fitzgerald (W)':'Glade G Fitzgerald',\n",
    " 'Caleb Dan Reeve (W)':'Caleb Dan Reeve',\n",
    "'Hektor Reiksthegn (W)':'Hektor Reiksthegn', \n",
    "'Abe Korb (W)':'Abe Korb',\n",
    " 'Ryan Daniel Jackson (W)':'Ryan Jackson',\n",
    "'Cody Judy (W)':'Cody Judy',\n",
    "'Tyrone Jensen (W)':'Tyrone Jensen'}"
   ]
  },
  {
   "cell_type": "code",
   "execution_count": 15,
   "id": "baa56ef7",
   "metadata": {},
   "outputs": [],
   "source": [
    "ut_election[\"candidate\"] = ut_election[\"candidate\"].map(cand_name_change_dict).fillna(ut_election[\"candidate\"])"
   ]
  },
  {
   "cell_type": "code",
   "execution_count": 16,
   "id": "0270a52c",
   "metadata": {},
   "outputs": [
    {
     "name": "stdout",
     "output_type": "stream",
     "text": [
      "['Tim Aalders' 'Craig Bowden' 'Reed Mccandless' 'Jenny Wilson'\n",
      " 'Mitt Romney' 'Write-In' 'Caleb Dan Reeve' 'Tyrone Jensen'\n",
      " 'Glade G Fitzgerald' 'Hektor Reiksthegn' 'Cody Judy' 'Ryan Jackson'\n",
      " 'Abe Korb']\n"
     ]
    }
   ],
   "source": [
    "print(ut_election[\"candidate\"].unique())"
   ]
  },
  {
   "cell_type": "code",
   "execution_count": 17,
   "id": "a213aa3f",
   "metadata": {},
   "outputs": [
    {
     "name": "stdout",
     "output_type": "stream",
     "text": [
      "      county         precinct       office  district        candidate party  \\\n",
      "0        055          Fremont  U.S. Senate       NaN      Tim Aalders  Con    \n",
      "1        055       Loa in/out  U.S. Senate       NaN      Tim Aalders  Con    \n",
      "2        055     Lyman in/out  U.S. Senate       NaN      Tim Aalders  Con    \n",
      "3        055  Bicknell in/out  U.S. Senate       NaN      Tim Aalders  Con    \n",
      "4        055         Teesdale  U.S. Senate       NaN      Tim Aalders  Con    \n",
      "...      ...              ...          ...       ...              ...   ...   \n",
      "41987    029     Croydon 15.5  U.S. Senate       NaN     Craig Bowden   LIB   \n",
      "41988    029     Croydon 15.5  U.S. Senate       NaN  Reed Mccandless   IAP   \n",
      "41989    029     Croydon 15.5  U.S. Senate       NaN     Jenny Wilson   DEM   \n",
      "41990    029     Croydon 15.5  U.S. Senate       NaN      Mitt Romney   REP   \n",
      "41991    029     Croydon 15.5  U.S. Senate       NaN         Write-In   NaN   \n",
      "\n",
      "      votes  \n",
      "0         7  \n",
      "1         6  \n",
      "2         6  \n",
      "3         8  \n",
      "4         3  \n",
      "...     ...  \n",
      "41987     4  \n",
      "41988     0  \n",
      "41989     6  \n",
      "41990    65  \n",
      "41991     0  \n",
      "\n",
      "[18635 rows x 7 columns]\n"
     ]
    }
   ],
   "source": [
    "print(ut_election)"
   ]
  },
  {
   "cell_type": "code",
   "execution_count": 18,
   "id": "aa3e9036",
   "metadata": {},
   "outputs": [],
   "source": [
    "ut_election[\"pivot_col\"]=ut_election[\"county\"]+ut_election[\"precinct\"]"
   ]
  },
  {
   "cell_type": "code",
   "execution_count": 19,
   "id": "00032a2b",
   "metadata": {},
   "outputs": [],
   "source": [
    "pivoted_2018 = pd.pivot_table(ut_election,values=[\"votes\"],index=[\"pivot_col\"],columns=[\"candidate\"],aggfunc=sum)\n"
   ]
  },
  {
   "cell_type": "code",
   "execution_count": 20,
   "id": "d83918a5",
   "metadata": {},
   "outputs": [
    {
     "name": "stdout",
     "output_type": "stream",
     "text": [
      "                 votes                                         \\\n",
      "candidate     Abe Korb Caleb Dan Reeve Cody Judy Craig Bowden   \n",
      "pivot_col                                                       \n",
      "001Beaver 1        NaN             NaN       NaN            9   \n",
      "001Beaver 2        NaN             NaN       NaN           10   \n",
      "001Beaver 3        NaN             NaN       NaN            2   \n",
      "001Beaver 4        NaN             NaN       NaN            4   \n",
      "001Greenville      NaN             NaN       NaN            1   \n",
      "...                ...             ...       ...          ...   \n",
      "057WHV007          NaN             NaN       NaN           11   \n",
      "057WHV008          NaN             NaN       NaN            9   \n",
      "057WNO001          NaN             NaN       NaN            *   \n",
      "057WNO002          NaN             NaN       NaN            *   \n",
      "057WNO003          NaN             NaN       NaN            0   \n",
      "\n",
      "                                                                             \\\n",
      "candidate     Glade G Fitzgerald Hektor Reiksthegn Jenny Wilson Mitt Romney   \n",
      "pivot_col                                                                     \n",
      "001Beaver 1                  NaN               NaN           46         402   \n",
      "001Beaver 2                  NaN               NaN           46         310   \n",
      "001Beaver 3                  NaN               NaN           30         244   \n",
      "001Beaver 4                  NaN               NaN            7          84   \n",
      "001Greenville                NaN               NaN            9          56   \n",
      "...                          ...               ...          ...         ...   \n",
      "057WHV007                    NaN               NaN           96         336   \n",
      "057WHV008                    NaN               NaN           46          90   \n",
      "057WNO001                    NaN               NaN            8           *   \n",
      "057WNO002                    NaN               NaN            *           *   \n",
      "057WNO003                    NaN               NaN           17          24   \n",
      "\n",
      "                                                                               \n",
      "candidate     Reed Mccandless Ryan Jackson Tim Aalders Tyrone Jensen Write-In  \n",
      "pivot_col                                                                      \n",
      "001Beaver 1                 8          NaN          19           NaN        1  \n",
      "001Beaver 2                 3          NaN          17           NaN        0  \n",
      "001Beaver 3                 0          NaN          12           NaN        2  \n",
      "001Beaver 4                 1          NaN          23           NaN        0  \n",
      "001Greenville               6          NaN           1           NaN        1  \n",
      "...                       ...          ...         ...           ...      ...  \n",
      "057WHV007                   3          NaN          20           NaN        3  \n",
      "057WHV008                   6          NaN          10           NaN        1  \n",
      "057WNO001                   *          NaN           *           NaN        *  \n",
      "057WNO002                   *          NaN           *           NaN        *  \n",
      "057WNO003                   0          NaN           0           NaN        0  \n",
      "\n",
      "[2271 rows x 13 columns]\n"
     ]
    }
   ],
   "source": [
    "print(pivoted_2018)"
   ]
  },
  {
   "cell_type": "code",
   "execution_count": 21,
   "id": "5ee41582",
   "metadata": {},
   "outputs": [
    {
     "name": "stdout",
     "output_type": "stream",
     "text": [
      "                 votes                                         \\\n",
      "candidate     Abe Korb Caleb Dan Reeve Cody Judy Craig Bowden   \n",
      "pivot_col                                                       \n",
      "001Beaver 1          0               0         0            9   \n",
      "001Beaver 2          0               0         0           10   \n",
      "001Beaver 3          0               0         0            2   \n",
      "001Beaver 4          0               0         0            4   \n",
      "001Greenville        0               0         0            1   \n",
      "\n",
      "                                                                             \\\n",
      "candidate     Glade G Fitzgerald Hektor Reiksthegn Jenny Wilson Mitt Romney   \n",
      "pivot_col                                                                     \n",
      "001Beaver 1                    0                 0           46         402   \n",
      "001Beaver 2                    0                 0           46         310   \n",
      "001Beaver 3                    0                 0           30         244   \n",
      "001Beaver 4                    0                 0            7          84   \n",
      "001Greenville                  0                 0            9          56   \n",
      "\n",
      "                                                                               \n",
      "candidate     Reed Mccandless Ryan Jackson Tim Aalders Tyrone Jensen Write-In  \n",
      "pivot_col                                                                      \n",
      "001Beaver 1                 8            0          19             0        1  \n",
      "001Beaver 2                 3            0          17             0        0  \n",
      "001Beaver 3                 0            0          12             0        2  \n",
      "001Beaver 4                 1            0          23             0        0  \n",
      "001Greenville               6            0           1             0        1  \n"
     ]
    }
   ],
   "source": [
    "pivoted_2018=pivoted_2018.fillna(0)\n",
    "print(pivoted_2018.head())"
   ]
  },
  {
   "cell_type": "code",
   "execution_count": 22,
   "id": "5a2cd342",
   "metadata": {},
   "outputs": [
    {
     "name": "stdout",
     "output_type": "stream",
     "text": [
      "candidate                Abe Korb Caleb Dan Reeve Cody Judy Craig Bowden  \\\n",
      "0            001Beaver 1        0               0         0            9   \n",
      "1            001Beaver 2        0               0         0           10   \n",
      "2            001Beaver 3        0               0         0            2   \n",
      "3            001Beaver 4        0               0         0            4   \n",
      "4          001Greenville        0               0         0            1   \n",
      "\n",
      "candidate Glade G Fitzgerald Hektor Reiksthegn Jenny Wilson Mitt Romney  \\\n",
      "0                          0                 0           46         402   \n",
      "1                          0                 0           46         310   \n",
      "2                          0                 0           30         244   \n",
      "3                          0                 0            7          84   \n",
      "4                          0                 0            9          56   \n",
      "\n",
      "candidate Reed Mccandless Ryan Jackson Tim Aalders Tyrone Jensen Write-In  \n",
      "0                       8            0          19             0        1  \n",
      "1                       3            0          17             0        0  \n",
      "2                       0            0          12             0        2  \n",
      "3                       1            0          23             0        0  \n",
      "4                       6            0           1             0        1  \n"
     ]
    }
   ],
   "source": [
    "pivoted_2018.reset_index(drop=False,inplace=True)\n",
    "pivoted_2018.columns = pivoted_2018.columns.droplevel(0)\n",
    "print(pivoted_2018.head())"
   ]
  },
  {
   "cell_type": "code",
   "execution_count": 23,
   "id": "ce0b50db",
   "metadata": {},
   "outputs": [
    {
     "name": "stdout",
     "output_type": "stream",
     "text": [
      "Index(['', 'Abe Korb', 'Caleb Dan Reeve', 'Cody Judy', 'Craig Bowden',\n",
      "       'Glade G Fitzgerald', 'Hektor Reiksthegn', 'Jenny Wilson',\n",
      "       'Mitt Romney', 'Reed Mccandless', 'Ryan Jackson', 'Tim Aalders',\n",
      "       'Tyrone Jensen', 'Write-In'],\n",
      "      dtype='object', name='candidate')\n"
     ]
    }
   ],
   "source": [
    "print(pivoted_2018.columns)"
   ]
  },
  {
   "cell_type": "code",
   "execution_count": null,
   "id": "41f3214d",
   "metadata": {},
   "outputs": [],
   "source": [
    "G18USSRROM - Mitt Romney (Republican Party)\n",
    "G18USSDWIL - Jenny Wilson (Democratic Party)\n",
    "G18USSIMCC - Reed C. McCandless (Independent American Party)\n",
    "G18USSLBOW - Craig R. Bowden (Libertarian Party)\n",
    "G18USSCAAL - Tim Aalders (Conservative Party)\n",
    "G18USSOWRI - Write-in Votes"
   ]
  },
  {
   "cell_type": "code",
   "execution_count": 24,
   "id": "860292e4",
   "metadata": {},
   "outputs": [],
   "source": [
    "pivoted_2018.columns = [\"pivot_col\",\"write_1\",\"write_2\",\"write_3\",\"G18USSLBOW\",\n",
    "                       \"write_4\",\"write_5\",\"G18USSDWIL\",\n",
    "                       \"G18USSRROM\",\"G18USSIMCC\",\"write_6\",\"G18USSCAAL\",\n",
    "                       \"write_7\",\"write_8\"]"
   ]
  },
  {
   "cell_type": "code",
   "execution_count": 25,
   "id": "66718e95",
   "metadata": {},
   "outputs": [
    {
     "name": "stdout",
     "output_type": "stream",
     "text": [
      "          pivot_col write_1 write_2 write_3 G18USSLBOW write_4 write_5  \\\n",
      "0       001Beaver 1       0       0       0          9       0       0   \n",
      "1       001Beaver 2       0       0       0         10       0       0   \n",
      "2       001Beaver 3       0       0       0          2       0       0   \n",
      "3       001Beaver 4       0       0       0          4       0       0   \n",
      "4     001Greenville       0       0       0          1       0       0   \n",
      "...             ...     ...     ...     ...        ...     ...     ...   \n",
      "2266      057WHV007       0       0       0         11       0       0   \n",
      "2267      057WHV008       0       0       0          9       0       0   \n",
      "2268      057WNO001       0       0       0          *       0       0   \n",
      "2269      057WNO002       0       0       0          *       0       0   \n",
      "2270      057WNO003       0       0       0          0       0       0   \n",
      "\n",
      "     G18USSDWIL G18USSRROM G18USSIMCC write_6 G18USSCAAL write_7 write_8  \n",
      "0            46        402          8       0         19       0       1  \n",
      "1            46        310          3       0         17       0       0  \n",
      "2            30        244          0       0         12       0       2  \n",
      "3             7         84          1       0         23       0       0  \n",
      "4             9         56          6       0          1       0       1  \n",
      "...         ...        ...        ...     ...        ...     ...     ...  \n",
      "2266         96        336          3       0         20       0       3  \n",
      "2267         46         90          6       0         10       0       1  \n",
      "2268          8          *          *       0          *       0       *  \n",
      "2269          *          *          *       0          *       0       *  \n",
      "2270         17         24          0       0          0       0       0  \n",
      "\n",
      "[2271 rows x 14 columns]\n"
     ]
    }
   ],
   "source": [
    "print(pivoted_2018)"
   ]
  },
  {
   "cell_type": "code",
   "execution_count": 30,
   "id": "aac6488c",
   "metadata": {},
   "outputs": [],
   "source": [
    "#What are these asteriks doing!\n",
    "fips_file[\"County Name\"].reset_index(drop=True,inplace=True)"
   ]
  },
  {
   "cell_type": "code",
   "execution_count": 35,
   "id": "10e51d70",
   "metadata": {},
   "outputs": [],
   "source": [
    "county_num_dict = dict(zip(fips_file[\"FIPS County\"],fips_file[\"County Name\"].index+1))\n",
    "                      \n"
   ]
  },
  {
   "cell_type": "code",
   "execution_count": 41,
   "id": "dde9846a",
   "metadata": {},
   "outputs": [],
   "source": [
    "pivoted_2018[\"county_fips\"]=pivoted_2018[\"pivot_col\"].str[0:3]\n",
    "pivoted_2018[\"county_num\"] = 0\n",
    "pivoted_2018[\"county_num\"] = pivoted_2018[\"county_fips\"].map(county_num_dict).fillna(pivoted_2018[\"county_num\"])"
   ]
  },
  {
   "cell_type": "code",
   "execution_count": 51,
   "id": "b7c5ed80",
   "metadata": {},
   "outputs": [],
   "source": [
    "pivoted_2018[\"county_num\"] = pivoted_2018[\"county_num\"].astype(str)"
   ]
  },
  {
   "cell_type": "code",
   "execution_count": 52,
   "id": "438d684a",
   "metadata": {},
   "outputs": [],
   "source": [
    "pivoted_2018[\"join_col\"]=pivoted_2018[\"county_num\"]+pivoted_2018[\"pivot_col\"].str[3:]"
   ]
  },
  {
   "cell_type": "code",
   "execution_count": 57,
   "id": "46c409ab",
   "metadata": {},
   "outputs": [],
   "source": [
    "vest_ut_18[\"CountyID\"]=vest_ut_18[\"CountyID\"].astype(str)"
   ]
  },
  {
   "cell_type": "code",
   "execution_count": 58,
   "id": "89b8f0ac",
   "metadata": {},
   "outputs": [],
   "source": [
    "vest_ut_18[\"join_col\"]=vest_ut_18[\"CountyID\"]+vest_ut_18[\"mergeid\"]"
   ]
  },
  {
   "cell_type": "code",
   "execution_count": 59,
   "id": "0efe503d",
   "metadata": {},
   "outputs": [
    {
     "name": "stdout",
     "output_type": "stream",
     "text": [
      "both          1693\n",
      "left_only      644\n",
      "right_only     578\n",
      "Name: _merge, dtype: int64\n"
     ]
    }
   ],
   "source": [
    "join_attempt_one = pd.merge(vest_ut_18,pivoted_2018,how=\"outer\",on=\"join_col\",indicator=True)\n",
    "print(join_attempt_one[\"_merge\"].value_counts())\n",
    "\n",
    "right_only = join_attempt_one[join_attempt_one[\"_merge\"]==\"right_only\"]\n",
    "left_only = join_attempt_one[join_attempt_one[\"_merge\"]==\"left_only\"]\n",
    "\n",
    "left_only.to_csv(\"./only_vest.csv\")\n",
    "right_only.to_csv(\"./only_source.csv\")\n"
   ]
  },
  {
   "cell_type": "code",
   "execution_count": 60,
   "id": "ae5536de",
   "metadata": {},
   "outputs": [],
   "source": [
    "source_to_vest_name_changes = pd.read_csv(\"./source_to_vest_name_changes.csv\")"
   ]
  },
  {
   "cell_type": "code",
   "execution_count": 61,
   "id": "9eea267b",
   "metadata": {},
   "outputs": [
    {
     "name": "stdout",
     "output_type": "stream",
     "text": [
      "         source_name vest_name\n",
      "0          1Beaver 1     1BV01\n",
      "1          1Beaver 2     1BV02\n",
      "2          1Beaver 3     1BV03\n",
      "3          1Beaver 4     1BV04\n",
      "4        1Greenville     1GR01\n",
      "5         1Milford 1     1ML01\n",
      "6         1Milford 2     1ML02\n",
      "7         1Milford 3     1ML03\n",
      "8       1Minersville     1MV01\n",
      "9   2Brigham City 01     2BC01\n",
      "10  2Brigham City 02     2BC02\n",
      "11  2Brigham City 03     2BC03\n",
      "12  2Brigham City 04     2BC04\n",
      "13  2Brigham City 05     2BC05\n",
      "14  2Brigham City 06     2BC06\n",
      "15  2Brigham City 07     2BC07\n",
      "16  2Brigham City 08     2BC08\n",
      "17  2Brigham City 09     2BC09\n",
      "18  2Brigham City 10     2BC10\n",
      "19  2Brigham City 11     2BC11\n",
      "20  2Brigham City 12     2BC12\n",
      "21  2Brigham City 13     2BC13\n",
      "22  2Brigham City 14     2BC14\n",
      "23  2Brigham City 15     2BC15\n"
     ]
    }
   ],
   "source": [
    "print(source_to_vest_name_changes)"
   ]
  },
  {
   "cell_type": "code",
   "execution_count": 65,
   "id": "0666d2f3",
   "metadata": {},
   "outputs": [],
   "source": [
    "source_to_vest_name_changes_dict = dict(zip(source_to_vest_name_changes[\"source_name\"],source_to_vest_name_changes[\"vest_name\"]))\n",
    "pivoted_2018[\"join_col\"] = pivoted_2018[\"join_col\"].map(source_to_vest_name_changes_dict).fillna(pivoted_2018[\"join_col\"])"
   ]
  },
  {
   "cell_type": "code",
   "execution_count": 67,
   "id": "9f745d0d",
   "metadata": {},
   "outputs": [
    {
     "name": "stdout",
     "output_type": "stream",
     "text": [
      "both          1717\n",
      "left_only      620\n",
      "right_only     554\n",
      "Name: _merge, dtype: int64\n"
     ]
    }
   ],
   "source": [
    "join_attempt_one = pd.merge(vest_ut_18,pivoted_2018,how=\"outer\",on=\"join_col\",indicator=True)\n",
    "print(join_attempt_one[\"_merge\"].value_counts())\n",
    "\n",
    "right_only = join_attempt_one[join_attempt_one[\"_merge\"]==\"right_only\"]\n",
    "left_only = join_attempt_one[join_attempt_one[\"_merge\"]==\"left_only\"]\n",
    "both = join_attempt_one[join_attempt_one[\"_merge\"]==\"both\"]\n",
    "\n",
    "left_only.to_csv(\"./only_vest.csv\")\n",
    "right_only.to_csv(\"./only_source.csv\")\n",
    "both.to_csv(\"./both.csv\")"
   ]
  },
  {
   "cell_type": "code",
   "execution_count": null,
   "id": "b7339f18",
   "metadata": {},
   "outputs": [],
   "source": []
  }
 ],
 "metadata": {
  "kernelspec": {
   "display_name": "Python 3",
   "language": "python",
   "name": "python3"
  },
  "language_info": {
   "codemirror_mode": {
    "name": "ipython",
    "version": 3
   },
   "file_extension": ".py",
   "mimetype": "text/x-python",
   "name": "python",
   "nbconvert_exporter": "python",
   "pygments_lexer": "ipython3",
   "version": "3.9.2"
  }
 },
 "nbformat": 4,
 "nbformat_minor": 5
}
