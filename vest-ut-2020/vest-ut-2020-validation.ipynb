{
 "cells": [
  {
   "cell_type": "code",
   "execution_count": 4,
   "id": "85d8f35c",
   "metadata": {},
   "outputs": [],
   "source": [
    "import pandas as pd # standard python data library\n",
    "import geopandas as gp # the geo-version of pandas\n",
    "import numpy as np \n",
    "import os\n",
    "import fiona\n",
    "from statistics import mean, median\n",
    "from pandas import read_csv\n",
    "gp.io.file.fiona.drvsupport.supported_drivers['KML'] = 'rw' #To load KML files\n",
    "import string\n",
    "import xml.etree.ElementTree as et\n",
    "\n",
    "pd.options.display.max_columns = 999"
   ]
  },
  {
   "cell_type": "markdown",
   "id": "9ec1b481",
   "metadata": {},
   "source": [
    "# Utah"
   ]
  },
  {
   "cell_type": "markdown",
   "id": "3e44d9ca",
   "metadata": {},
   "source": [
    "## VEST Documentation"
   ]
  },
  {
   "cell_type": "markdown",
   "id": "b63aa9d1",
   "metadata": {},
   "source": [
    "Election results from OpenElections (https://github.com/openelections/openelections-data-ut/tree/master/2020).\n",
    "Precinct shapefile from Utah Automated Geographic Reference Center (https://gis.utah.gov/data/political/voter-precincts/).\n",
    "\n",
    "The shapefile from the AGRC is of subprecincts, breaking down precincts in cases of district splits. In some cases, results are reported at the subprecinct level, in most cases, they weren't, so merging was done where necessary.\n",
    "\n",
    "Emery County - 52 \"canvas votes\" were distributed to precincts.\n",
    "\n",
    "G20PRERTRU - Donald J. Trump (Republican Party)  \n",
    "G20PREDBID - Joseph R. Biden (Democratic Party)  \n",
    "G20PRELJOR - Jo Jorgensen (Libertarian Party)  \n",
    "G20PREGHAW - Howie Hawkins (Green Party)  \n",
    "G20PRECBLA - Don Blankenship (Constitution Party)  \n",
    "G20PREIPIE - Brock Pierce (Unaffiliated)  \n",
    "G20PREIWES - Kanye West (Unaffiliated)  \n",
    "G20PREIMCH - Joe McHugh (Unaffiliated)  \n",
    "G20PREILAR - Gloria La Riva (Unaffiliated)  \n",
    "G20PREOWRI - Write-in Votes  \n",
    "\n",
    "G20GOVRCOX - Spencer J. Cox (Republican Party)  \n",
    "G20GOVDPET - Chris Peterson (Democratic Party)  \n",
    "G20GOVLCOT - Daniel Rhead Cottam (Libertarian Party)  \n",
    "G20GOVADUE - Greg Duerden (Independent American Party)  \n",
    "G20GOVOWRI - Write-in Votes  \n",
    "\n",
    "G20ATGRREY - Sean D. Reyes (Republican Party)  \n",
    "G20ATGDSKO - Greg Skordas (Democratic Party)  \n",
    "G20ATGLBAU - Rudy J. Bautista (Libertarian Party)  \n",
    "\n",
    "G20AUDRDOU - John \"Frugal\" Dougall (Republican Party)  \n",
    "G20AUDCOST - Jeffrey L. Ostler (Constitution Party)  \n",
    "G20AUDUFAB - Brian L. Fabbi (United Utah Party)  \n",
    "\n",
    "G20TRERDAM - David Damschen (Republican Party)  \n",
    "G20TRELSPE - Joseph Speciale (Libertarian Party)  \n",
    "G20TRECPRO - Richard Proctor (Constitution Party)  "
   ]
  },
  {
   "cell_type": "markdown",
   "id": "10768db5",
   "metadata": {},
   "source": [
    "## Load VEST File"
   ]
  },
  {
   "cell_type": "code",
   "execution_count": 2,
   "id": "cfa54d97",
   "metadata": {},
   "outputs": [],
   "source": [
    "vest_ut_20 = gp.read_file(\"./raw-from-source/VEST/ut_2020/ut_2020.shp\")"
   ]
  },
  {
   "cell_type": "code",
   "execution_count": 3,
   "id": "043d95cb",
   "metadata": {},
   "outputs": [],
   "source": [
    "#Create a list of data columns\n",
    "data_columns = [col for col in vest_ut_20.columns if \"G20\" in col]"
   ]
  },
  {
   "cell_type": "markdown",
   "id": "081ddc91",
   "metadata": {},
   "source": [
    "## Load Election Results"
   ]
  },
  {
   "cell_type": "code",
   "execution_count": null,
   "id": "1b074fb7",
   "metadata": {},
   "outputs": [],
   "source": []
  }
 ],
 "metadata": {
  "kernelspec": {
   "display_name": "Python 3",
   "language": "python",
   "name": "python3"
  },
  "language_info": {
   "codemirror_mode": {
    "name": "ipython",
    "version": 3
   },
   "file_extension": ".py",
   "mimetype": "text/x-python",
   "name": "python",
   "nbconvert_exporter": "python",
   "pygments_lexer": "ipython3",
   "version": "3.9.2"
  }
 },
 "nbformat": 4,
 "nbformat_minor": 5
}
